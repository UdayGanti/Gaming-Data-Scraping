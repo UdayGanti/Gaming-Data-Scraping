{
 "cells": [
  {
   "cell_type": "code",
   "execution_count": 1,
   "id": "a8c9249d",
   "metadata": {},
   "outputs": [],
   "source": [
    "import pandas as pd\n",
    "import numpy as np\n",
    "\n",
    "import requests\n",
    "from bs4 import BeautifulSoup"
   ]
  },
  {
   "cell_type": "code",
   "execution_count": 2,
   "id": "c208ef61",
   "metadata": {},
   "outputs": [],
   "source": [
    "# URL of the website to scrape\n",
    "url = \"https://www.vgchartz.com/games/games.php?page=1\"\n",
    "\n",
    "# Send a GET request to the URL\n",
    "response = requests.get(url)\n",
    "\n",
    "# Check if the request was successful\n",
    "if response.status_code == 200:\n",
    "    # Parse the HTML content of the page\n",
    "    soup = BeautifulSoup(response.text, 'html.parser')\n",
    "    \n",
    "    # Find the <select> tag with name=\"console\"\n",
    "    console_select = soup.find('select', {'name': 'console'})\n",
    "    \n",
    "    if console_select:\n",
    "        # Extract the options and their values\n",
    "        options = console_select.find_all('option')\n",
    "        \n",
    "        # Initialize lists to store data\n",
    "        options_data = []\n",
    "        \n",
    "        # Loop through the options and extract the text and values\n",
    "        for option in options:\n",
    "            text = option.text.strip()\n",
    "            value = option['value']\n",
    "            options_data.append([text, value])\n",
    "        \n",
    "        # Create a Pandas DataFrame for the options\n",
    "        genre_df = pd.DataFrame(options_data, columns=[\"Console Name\", \"Console Value\"])\n",
    "        \n",
    "        # Display the DataFrame\n",
    "    else:\n",
    "        print(\"Select tag with name 'console' not found on the page.\")\n",
    "else:\n",
    "    print(\"Failed to retrieve the webpage. Status code:\", response.status_code)"
   ]
  },
  {
   "cell_type": "code",
   "execution_count": 3,
   "id": "3bf7c834",
   "metadata": {},
   "outputs": [
    {
     "data": {
      "text/html": [
       "<div>\n",
       "<style scoped>\n",
       "    .dataframe tbody tr th:only-of-type {\n",
       "        vertical-align: middle;\n",
       "    }\n",
       "\n",
       "    .dataframe tbody tr th {\n",
       "        vertical-align: top;\n",
       "    }\n",
       "\n",
       "    .dataframe thead th {\n",
       "        text-align: right;\n",
       "    }\n",
       "</style>\n",
       "<table border=\"1\" class=\"dataframe\">\n",
       "  <thead>\n",
       "    <tr style=\"text-align: right;\">\n",
       "      <th></th>\n",
       "      <th>Console Name</th>\n",
       "      <th>Console Value</th>\n",
       "    </tr>\n",
       "  </thead>\n",
       "  <tbody>\n",
       "    <tr>\n",
       "      <th>1</th>\n",
       "      <td>3DO Interactive Multiplayer</td>\n",
       "      <td>3DO</td>\n",
       "    </tr>\n",
       "    <tr>\n",
       "      <th>2</th>\n",
       "      <td>Acorn Electron</td>\n",
       "      <td>Aco</td>\n",
       "    </tr>\n",
       "    <tr>\n",
       "      <th>3</th>\n",
       "      <td>All</td>\n",
       "      <td>All</td>\n",
       "    </tr>\n",
       "    <tr>\n",
       "      <th>4</th>\n",
       "      <td>Amiga</td>\n",
       "      <td>Amig</td>\n",
       "    </tr>\n",
       "    <tr>\n",
       "      <th>5</th>\n",
       "      <td>Amiga CD32</td>\n",
       "      <td>CD32</td>\n",
       "    </tr>\n",
       "  </tbody>\n",
       "</table>\n",
       "</div>"
      ],
      "text/plain": [
       "                  Console Name Console Value\n",
       "1  3DO Interactive Multiplayer           3DO\n",
       "2               Acorn Electron           Aco\n",
       "3                          All           All\n",
       "4                        Amiga          Amig\n",
       "5                   Amiga CD32          CD32"
      ]
     },
     "execution_count": 3,
     "metadata": {},
     "output_type": "execute_result"
    }
   ],
   "source": [
    "genre_df = genre_df.drop(0)\n",
    "genre_df.head()"
   ]
  },
  {
   "cell_type": "code",
   "execution_count": 4,
   "id": "dfa53f04",
   "metadata": {},
   "outputs": [],
   "source": [
    "combined_df = pd.DataFrame()"
   ]
  },
  {
   "cell_type": "code",
   "execution_count": 5,
   "id": "72fe4926",
   "metadata": {},
   "outputs": [
    {
     "name": "stdout",
     "output_type": "stream",
     "text": [
      "Working on Page 1\n"
     ]
    },
    {
     "name": "stderr",
     "output_type": "stream",
     "text": [
      "C:\\Users\\Uday Ganti\\AppData\\Local\\Temp\\ipykernel_6260\\3640868652.py:42: FutureWarning: The frame.append method is deprecated and will be removed from pandas in a future version. Use pandas.concat instead.\n",
      "  combined_df = combined_df.append(df, ignore_index=True)\n"
     ]
    },
    {
     "name": "stdout",
     "output_type": "stream",
     "text": [
      "Working on Page 2\n"
     ]
    },
    {
     "name": "stderr",
     "output_type": "stream",
     "text": [
      "C:\\Users\\Uday Ganti\\AppData\\Local\\Temp\\ipykernel_6260\\3640868652.py:42: FutureWarning: The frame.append method is deprecated and will be removed from pandas in a future version. Use pandas.concat instead.\n",
      "  combined_df = combined_df.append(df, ignore_index=True)\n"
     ]
    },
    {
     "name": "stdout",
     "output_type": "stream",
     "text": [
      "Working on Page 3\n"
     ]
    },
    {
     "name": "stderr",
     "output_type": "stream",
     "text": [
      "C:\\Users\\Uday Ganti\\AppData\\Local\\Temp\\ipykernel_6260\\3640868652.py:42: FutureWarning: The frame.append method is deprecated and will be removed from pandas in a future version. Use pandas.concat instead.\n",
      "  combined_df = combined_df.append(df, ignore_index=True)\n"
     ]
    },
    {
     "name": "stdout",
     "output_type": "stream",
     "text": [
      "Working on Page 4\n"
     ]
    },
    {
     "name": "stderr",
     "output_type": "stream",
     "text": [
      "C:\\Users\\Uday Ganti\\AppData\\Local\\Temp\\ipykernel_6260\\3640868652.py:42: FutureWarning: The frame.append method is deprecated and will be removed from pandas in a future version. Use pandas.concat instead.\n",
      "  combined_df = combined_df.append(df, ignore_index=True)\n"
     ]
    },
    {
     "name": "stdout",
     "output_type": "stream",
     "text": [
      "Working on Page 5\n"
     ]
    },
    {
     "name": "stderr",
     "output_type": "stream",
     "text": [
      "C:\\Users\\Uday Ganti\\AppData\\Local\\Temp\\ipykernel_6260\\3640868652.py:42: FutureWarning: The frame.append method is deprecated and will be removed from pandas in a future version. Use pandas.concat instead.\n",
      "  combined_df = combined_df.append(df, ignore_index=True)\n"
     ]
    }
   ],
   "source": [
    "for page_num in range(1, 6):\n",
    "    # Construct the URL with the current page number\n",
    "    print(f\"Working on Page {page_num}\")\n",
    "    url = f\"https://www.vgchartz.com/games/games.php?page={page_num}&results=200&order=Sales&ownership=Both&direction=DESC&showtotalsales=1&shownasales=1&showpalsales=1&showjapansales=1&showothersales=1&showpublisher=1&showdeveloper=1&showreleasedate=1&showlastupdate=1&showvgchartzscore=0&showcriticscore=0&showuserscore=0&showshipped=1&showmultiplat=Yes\"\n",
    "    \n",
    "    # Send a GET request to the URL\n",
    "    response = requests.get(url)\n",
    "\n",
    "    # Check if the request was successful\n",
    "    if response.status_code == 200:\n",
    "        # Parse the HTML content of the page\n",
    "        soup = BeautifulSoup(response.text, 'html.parser')\n",
    "        \n",
    "        # Find the div element with ID \"generalBody\"\n",
    "        general_body_div = soup.find('div', {'id': 'generalBody'})\n",
    "        \n",
    "        if general_body_div:\n",
    "            # Find the table inside the \"generalBody\" div\n",
    "            table = general_body_div.find('table')\n",
    "            \n",
    "            if table:\n",
    "                # Initialize lists to store data\n",
    "                rows_data = []\n",
    "                \n",
    "                # Loop through each row (tr) in the table\n",
    "                for row in table.find_all('tr'):\n",
    "                    # Check if the row has td tags\n",
    "                    if row.find_all('td'):\n",
    "                        # Extract the text from each cell (td) in the row\n",
    "                        row_data = [cell.text.strip() for cell in row.find_all('td')]\n",
    "                        rows_data.append(row_data)\n",
    "                \n",
    "                # Create a Pandas DataFrame with named columns\n",
    "                columns = [\n",
    "                    \"Position\", \"Logo\",\"Game\", \"Console\", \"Publisher\", \"Developer\",\n",
    "                    \"Total Shipped\", \"Total Sales\", \"NA Sales\", \"PAL Sales\",\n",
    "                    \"Japan Sales\", \"Other Sales\", \"Release Date\", \"Last Update\"\n",
    "                ]\n",
    "                df = pd.DataFrame(rows_data, columns=columns)\n",
    "                \n",
    "                # Append the data from the current page to the combined DataFrame\n",
    "                combined_df = combined_df.append(df, ignore_index=True)\n",
    "            else:\n",
    "                print(f\"Table not found within the 'generalBody' div on page {page_num}.\")\n",
    "        else:\n",
    "            print(f\"Div with ID 'generalBody' not found on page {page_num}.\")\n",
    "    else:\n",
    "        print(f\"Failed to retrieve the webpage for page {page_num}. Status code:\", response.status_code)"
   ]
  },
  {
   "cell_type": "code",
   "execution_count": 6,
   "id": "15212a3f",
   "metadata": {},
   "outputs": [
    {
     "data": {
      "text/html": [
       "<div>\n",
       "<style scoped>\n",
       "    .dataframe tbody tr th:only-of-type {\n",
       "        vertical-align: middle;\n",
       "    }\n",
       "\n",
       "    .dataframe tbody tr th {\n",
       "        vertical-align: top;\n",
       "    }\n",
       "\n",
       "    .dataframe thead th {\n",
       "        text-align: right;\n",
       "    }\n",
       "</style>\n",
       "<table border=\"1\" class=\"dataframe\">\n",
       "  <thead>\n",
       "    <tr style=\"text-align: right;\">\n",
       "      <th></th>\n",
       "      <th>Position</th>\n",
       "      <th>Logo</th>\n",
       "      <th>Game</th>\n",
       "      <th>Console</th>\n",
       "      <th>Publisher</th>\n",
       "      <th>Developer</th>\n",
       "      <th>Total Shipped</th>\n",
       "      <th>Total Sales</th>\n",
       "      <th>NA Sales</th>\n",
       "      <th>PAL Sales</th>\n",
       "      <th>Japan Sales</th>\n",
       "      <th>Other Sales</th>\n",
       "      <th>Release Date</th>\n",
       "      <th>Last Update</th>\n",
       "    </tr>\n",
       "  </thead>\n",
       "  <tbody>\n",
       "    <tr>\n",
       "      <th>0</th>\n",
       "      <td>1</td>\n",
       "      <td></td>\n",
       "      <td>Tetris</td>\n",
       "      <td></td>\n",
       "      <td>The Tetris Company</td>\n",
       "      <td>Alexey Pajitnov</td>\n",
       "      <td>496.40m</td>\n",
       "      <td>N/A</td>\n",
       "      <td>N/A</td>\n",
       "      <td>N/A</td>\n",
       "      <td>N/A</td>\n",
       "      <td>N/A</td>\n",
       "      <td>01st Jan 88</td>\n",
       "      <td>27th Feb 20</td>\n",
       "    </tr>\n",
       "    <tr>\n",
       "      <th>1</th>\n",
       "      <td>2</td>\n",
       "      <td></td>\n",
       "      <td>Pokemon</td>\n",
       "      <td></td>\n",
       "      <td>Nintendo</td>\n",
       "      <td>Game Freak</td>\n",
       "      <td>480.66m</td>\n",
       "      <td>N/A</td>\n",
       "      <td>N/A</td>\n",
       "      <td>N/A</td>\n",
       "      <td>N/A</td>\n",
       "      <td>N/A</td>\n",
       "      <td>28th Sep 98</td>\n",
       "      <td>03rd Feb 20</td>\n",
       "    </tr>\n",
       "    <tr>\n",
       "      <th>2</th>\n",
       "      <td>3</td>\n",
       "      <td></td>\n",
       "      <td>Call of Duty</td>\n",
       "      <td></td>\n",
       "      <td>Activision</td>\n",
       "      <td>Infinity Ward</td>\n",
       "      <td>425.00m</td>\n",
       "      <td>N/A</td>\n",
       "      <td>N/A</td>\n",
       "      <td>N/A</td>\n",
       "      <td>N/A</td>\n",
       "      <td>N/A</td>\n",
       "      <td>29th Oct 03</td>\n",
       "      <td>03rd Feb 20</td>\n",
       "    </tr>\n",
       "    <tr>\n",
       "      <th>3</th>\n",
       "      <td>4</td>\n",
       "      <td></td>\n",
       "      <td>Grand Theft Auto</td>\n",
       "      <td></td>\n",
       "      <td>Rockstar Games</td>\n",
       "      <td>Rockstar North</td>\n",
       "      <td>405.00m</td>\n",
       "      <td>N/A</td>\n",
       "      <td>N/A</td>\n",
       "      <td>N/A</td>\n",
       "      <td>N/A</td>\n",
       "      <td>N/A</td>\n",
       "      <td>27th Mar 98</td>\n",
       "      <td>03rd Feb 20</td>\n",
       "    </tr>\n",
       "    <tr>\n",
       "      <th>4</th>\n",
       "      <td>5</td>\n",
       "      <td></td>\n",
       "      <td>Super Mario</td>\n",
       "      <td></td>\n",
       "      <td>Nintendo</td>\n",
       "      <td>Nintendo</td>\n",
       "      <td>402.36m</td>\n",
       "      <td>N/A</td>\n",
       "      <td>N/A</td>\n",
       "      <td>N/A</td>\n",
       "      <td>N/A</td>\n",
       "      <td>N/A</td>\n",
       "      <td>20th Jul 83</td>\n",
       "      <td>20th Feb 20</td>\n",
       "    </tr>\n",
       "  </tbody>\n",
       "</table>\n",
       "</div>"
      ],
      "text/plain": [
       "  Position Logo              Game Console           Publisher  \\\n",
       "0        1                 Tetris          The Tetris Company   \n",
       "1        2                Pokemon                    Nintendo   \n",
       "2        3           Call of Duty                  Activision   \n",
       "3        4       Grand Theft Auto              Rockstar Games   \n",
       "4        5            Super Mario                    Nintendo   \n",
       "\n",
       "         Developer Total Shipped Total Sales NA Sales PAL Sales Japan Sales  \\\n",
       "0  Alexey Pajitnov       496.40m         N/A      N/A       N/A         N/A   \n",
       "1       Game Freak       480.66m         N/A      N/A       N/A         N/A   \n",
       "2    Infinity Ward       425.00m         N/A      N/A       N/A         N/A   \n",
       "3   Rockstar North       405.00m         N/A      N/A       N/A         N/A   \n",
       "4         Nintendo       402.36m         N/A      N/A       N/A         N/A   \n",
       "\n",
       "  Other Sales Release Date  Last Update  \n",
       "0         N/A  01st Jan 88  27th Feb 20  \n",
       "1         N/A  28th Sep 98  03rd Feb 20  \n",
       "2         N/A  29th Oct 03  03rd Feb 20  \n",
       "3         N/A  27th Mar 98  03rd Feb 20  \n",
       "4         N/A  20th Jul 83  20th Feb 20  "
      ]
     },
     "execution_count": 6,
     "metadata": {},
     "output_type": "execute_result"
    }
   ],
   "source": [
    "combined_df.head()"
   ]
  },
  {
   "cell_type": "code",
   "execution_count": 7,
   "id": "680aa018",
   "metadata": {},
   "outputs": [],
   "source": [
    "combined_df = combined_df.drop(\"Position\", axis=1)\n",
    "combined_df = combined_df.drop(\"Logo\", axis=1)"
   ]
  },
  {
   "cell_type": "code",
   "execution_count": 8,
   "id": "47fb82ab",
   "metadata": {},
   "outputs": [
    {
     "data": {
      "text/plain": [
       "(1000, 12)"
      ]
     },
     "execution_count": 8,
     "metadata": {},
     "output_type": "execute_result"
    }
   ],
   "source": [
    "combined_df.shape"
   ]
  },
  {
   "cell_type": "code",
   "execution_count": 9,
   "id": "060c23c0",
   "metadata": {},
   "outputs": [],
   "source": [
    "combined_df = combined_df.replace(\"N/A\", np.nan)\n",
    "\n",
    "columns_to_check = [\"Total Sales\", \"NA Sales\", \"PAL Sales\", \"Japan Sales\", \"Other Sales\"]\n",
    "\n",
    "# Remove rows with N/A values in any of the specified columns\n",
    "combined_df = combined_df.dropna(subset=columns_to_check, how=\"any\")"
   ]
  },
  {
   "cell_type": "code",
   "execution_count": 10,
   "id": "ae6b7b36",
   "metadata": {},
   "outputs": [
    {
     "data": {
      "text/plain": [
       "(136, 12)"
      ]
     },
     "execution_count": 10,
     "metadata": {},
     "output_type": "execute_result"
    }
   ],
   "source": [
    "combined_df.shape"
   ]
  },
  {
   "cell_type": "code",
   "execution_count": null,
   "id": "9d004547",
   "metadata": {},
   "outputs": [],
   "source": []
  }
 ],
 "metadata": {
  "kernelspec": {
   "display_name": "Python 3 (ipykernel)",
   "language": "python",
   "name": "python3"
  },
  "language_info": {
   "codemirror_mode": {
    "name": "ipython",
    "version": 3
   },
   "file_extension": ".py",
   "mimetype": "text/x-python",
   "name": "python",
   "nbconvert_exporter": "python",
   "pygments_lexer": "ipython3",
   "version": "3.9.12"
  }
 },
 "nbformat": 4,
 "nbformat_minor": 5
}
